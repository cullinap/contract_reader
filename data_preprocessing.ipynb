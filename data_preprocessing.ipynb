{
 "cells": [
  {
   "cell_type": "markdown",
   "metadata": {},
   "source": [
    "### Preprocessing notebook\n",
    "\n",
    "The data comes from the following link: https://www.consumerfinance.gov/credit-cards/agreements/\n",
    "\n",
    "The Consumer Financial Protection Bureau (CFPB) collects credit card agreements from creditors on a quarterly basis and posts them at the link above. The CFPB organizes the data by putting each participating company in a directory and then collecting all the statements in a directory for each company. For Q4 of 2018 there are 652 companies and each company has on average 2-4 agreements. \n",
    "\n",
    "The purpose of this repo/notebook will be to analyze these documents and label passages within the document so that a potential customer can read it faster and with greater comprehension. For most people contract documents are not fun to read because they are usually written in complex legal jargon and the style of writing is purposely dry so as to spell out worst-case scenarios. That said it is important to understand what you or your business is getting into before signing any sort of agreement. Because it takes a certain type of expertise to understand these documents I feel it would be interesting to see if we can leverage natural language techniques to tag this these documents "
   ]
  },
  {
   "cell_type": "code",
   "execution_count": 5,
   "metadata": {},
   "outputs": [],
   "source": [
    "from utils.process_data import Process"
   ]
  },
  {
   "cell_type": "code",
   "execution_count": 6,
   "metadata": {},
   "outputs": [],
   "source": [
    "import os\n",
    "\n",
    "DATA_PATH = './data/cc_2018/'\n",
    "files = [f for f in os.listdir(DATA_PATH)]\n",
    "data_init = Process(files, DATA_PATH, 'pdf-output-2.pkl')\n",
    "OVERWRITE = True"
   ]
  },
  {
   "cell_type": "code",
   "execution_count": 7,
   "metadata": {},
   "outputs": [
    {
     "name": "stdout",
     "output_type": "stream",
     "text": [
      "cleaning pdf files...\n",
      "now preprocessing the data...\n",
      "dumping file to pkl...\n",
      "done\n"
     ]
    }
   ],
   "source": [
    "custom_stopwords = ['aaa']\n",
    "\n",
    "process_val = {'stopwords':'english',\n",
    "               'custom_sw':custom_stopwords,\n",
    "               'stemmer':'yes',\n",
    "               'ngrams':'bigrams'}\n",
    "\n",
    "temp_ = data_init.remove_lines(OVERWRITE, data_init, **process_val)"
   ]
  },
  {
   "cell_type": "markdown",
   "metadata": {},
   "source": [
    "##### Sizing of the features fed into the model - how to split - should I split on \\n\\n or \\n?"
   ]
  },
  {
   "cell_type": "code",
   "execution_count": 8,
   "metadata": {},
   "outputs": [],
   "source": [
    "# gs_params = {\n",
    "#     'vect__ngram_range': [(1, 1), (1, 2), (1, 3)],\n",
    "#     'tfidf__max_df': (0.4, 0.5, 0.6,0.7),\n",
    "#     'tfidf__min_df': (5,10,15,20)\n",
    "#     'tfidf__use_idf': (True, False),\n",
    "#     'clf__alpha': (1e-2, 1e-3),\n",
    "# }\n",
    "\n",
    "# data_init.gridsearch(**gs_params)"
   ]
  },
  {
   "cell_type": "code",
   "execution_count": 12,
   "metadata": {},
   "outputs": [
    {
     "name": "stdout",
     "output_type": "stream",
     "text": [
      "loading data...\n",
      "loaded...\n",
      "applying tfidf\n"
     ]
    },
    {
     "data": {
      "text/plain": [
       "<48451x3234 sparse matrix of type '<class 'numpy.float64'>'\n",
       "\twith 1517921 stored elements in Compressed Sparse Row format>"
      ]
     },
     "execution_count": 12,
     "metadata": {},
     "output_type": "execute_result"
    }
   ],
   "source": [
    "params = {'vectorizor': 'tfidf',\n",
    "          'max_df': .5,\n",
    "          'min_df': 100,\n",
    "          'max_features':None \n",
    "         }\n",
    "\n",
    "tfidf = data_init.vectorize(**params)\n",
    "\n",
    "tfidf"
   ]
  },
  {
   "cell_type": "code",
   "execution_count": 13,
   "metadata": {},
   "outputs": [
    {
     "name": "stdout",
     "output_type": "stream",
     "text": [
      "processing nmf...\n",
      "calculating nmf for k 4 to 15...\n",
      "dumping file to pkl...\n",
      "done\n"
     ]
    }
   ],
   "source": [
    "from sklearn.decomposition import NMF\n",
    "import pickle\n",
    "\n",
    "if os.path.exists('./data/nmf-output.pkl') == False:\n",
    "    print('processing nmf...')\n",
    "    kmin, kmax = 4,15\n",
    "    \n",
    "    print(f'calculating nmf for k {kmin} to {kmax}...')\n",
    "    d = {}\n",
    "    for k in range(kmin,kmax+1):\n",
    "        model = NMF(init='nndsvd', n_components=k) \n",
    "        d[k] = model.fit_transform(tfidf), model.components_ #collect W & H factors\n",
    "    \n",
    "    print('dumping file to pkl...')\n",
    "    output = open('./data/nmf-output.pkl', 'wb')\n",
    "    pickle.dump(d, output)\n",
    "    output.close()\n",
    "    print('done')\n",
    "    \n",
    "else:\n",
    "    print('file exists, loading data...')\n",
    "    \n",
    "    pkl_file = open('./data/nmf-output.pkl', 'rb')\n",
    "    d = pickle.load(pkl_file)\n",
    "    pkl_file.close()\n",
    "    \n",
    "    print('loaded...')"
   ]
  },
  {
   "cell_type": "code",
   "execution_count": 16,
   "metadata": {},
   "outputs": [],
   "source": [
    "import pandas as pd\n",
    "\n",
    "df_ = pd.concat([temp_[k] for k in temp_.keys()],axis=0).reset_index().drop(['index'],axis=1)\n",
    "\n",
    "l = [df_[0].iloc[x].split(\", \") for x in range(652)]"
   ]
  },
  {
   "cell_type": "code",
   "execution_count": 33,
   "metadata": {},
   "outputs": [],
   "source": [
    "data_ = data_init._iterate()"
   ]
  },
  {
   "cell_type": "code",
   "execution_count": 45,
   "metadata": {},
   "outputs": [],
   "source": [
    "from itertools import chain\n",
    "\n",
    "combined_ = [i for i in chain.from_iterable([data_[i] for i in data_.keys()])]"
   ]
  },
  {
   "cell_type": "code",
   "execution_count": 48,
   "metadata": {},
   "outputs": [],
   "source": [
    "data = pd.DataFrame(combined_)"
   ]
  },
  {
   "cell_type": "code",
   "execution_count": 17,
   "metadata": {},
   "outputs": [
    {
     "data": {
      "text/html": [
       "<div>\n",
       "<style scoped>\n",
       "    .dataframe tbody tr th:only-of-type {\n",
       "        vertical-align: middle;\n",
       "    }\n",
       "\n",
       "    .dataframe tbody tr th {\n",
       "        vertical-align: top;\n",
       "    }\n",
       "\n",
       "    .dataframe thead th {\n",
       "        text-align: right;\n",
       "    }\n",
       "</style>\n",
       "<table border=\"1\" class=\"dataframe\">\n",
       "  <thead>\n",
       "    <tr style=\"text-align: right;\">\n",
       "      <th></th>\n",
       "      <th>0</th>\n",
       "    </tr>\n",
       "  </thead>\n",
       "  <tbody>\n",
       "    <tr>\n",
       "      <th>0</th>\n",
       "      <td>credit_card, card_applic, applic_disclosur, cr...</td>\n",
       "    </tr>\n",
       "    <tr>\n",
       "      <th>1</th>\n",
       "      <td>ibmsecu_ibm, ibm_southeast, southeast_employe,...</td>\n",
       "    </tr>\n",
       "    <tr>\n",
       "      <th>2</th>\n",
       "      <td>credit_card, card_applic, applic_disclosur, cr...</td>\n",
       "    </tr>\n",
       "    <tr>\n",
       "      <th>3</th>\n",
       "      <td>import_credit, credit_card, card_disclosur, di...</td>\n",
       "    </tr>\n",
       "    <tr>\n",
       "      <th>4</th>\n",
       "      <td>interest_rate, rate_interest, interest_charg, ...</td>\n",
       "    </tr>\n",
       "  </tbody>\n",
       "</table>\n",
       "</div>"
      ],
      "text/plain": [
       "                                                   0\n",
       "0  credit_card, card_applic, applic_disclosur, cr...\n",
       "1  ibmsecu_ibm, ibm_southeast, southeast_employe,...\n",
       "2  credit_card, card_applic, applic_disclosur, cr...\n",
       "3  import_credit, credit_card, card_disclosur, di...\n",
       "4  interest_rate, rate_interest, interest_charg, ..."
      ]
     },
     "execution_count": 17,
     "metadata": {},
     "output_type": "execute_result"
    }
   ],
   "source": [
    "df_.head()"
   ]
  },
  {
   "cell_type": "code",
   "execution_count": 19,
   "metadata": {},
   "outputs": [
    {
     "name": "stdout",
     "output_type": "stream",
     "text": [
      "preprocessing text data for w2v model\n",
      "making w2v model\n",
      "word2vec model has 374 terms\n"
     ]
    }
   ],
   "source": [
    "import gensim\n",
    "import pandas as pd\n",
    "\n",
    "if os.path.exists('./data/w2v-model.bin') == False:\n",
    "    print('preprocessing text data for w2v model')\n",
    "    #w2v_raw = data_init.preprocess(temp_['USE Credit Union'], **process_val)\n",
    "    \n",
    "    #processed = {k: data_init.preprocess(temp_[k], **process_val) for k in temp_.keys()}\n",
    "    \n",
    "    #processed = data_init.remove_lines(OVERWRITE, data_init, **process_val)\n",
    "    \n",
    "    w2v_raw = l\n",
    "    \n",
    "    #w2v_raw = pd.concat([processed[k] for k in processed.keys()],axis=0).reset_index().drop(['index'],axis=1)\n",
    "\n",
    "    print('making w2v model')\n",
    "    w2v_m = gensim.models.Word2Vec(w2v_raw, size=500, min_count=20, sg=1)\n",
    "\n",
    "    print(f'word2vec model has {len(w2v_m.wv.vocab)} terms')\n",
    "    w2v_m.save('./data/w2v-model.bin')\n",
    "    \n",
    "else:\n",
    "    print('file exists...')\n",
    "    w2v_m = gensim.models.Word2Vec.load('./data/w2v-model.bin')\n",
    "    print(f'word2vec model has {len(w2v_m.wv.vocab)} terms')"
   ]
  },
  {
   "cell_type": "code",
   "execution_count": 20,
   "metadata": {},
   "outputs": [],
   "source": [
    "from sklearn.externals import joblib\n",
    "\n",
    "(tfidf_,terms) = joblib.load('./data/tfidf-output.pkl')"
   ]
  },
  {
   "cell_type": "code",
   "execution_count": 23,
   "metadata": {},
   "outputs": [],
   "source": [
    "f2t_m = gensim.models.Word2Vec.load('./data/f2t-model.bin')"
   ]
  },
  {
   "cell_type": "code",
   "execution_count": 24,
   "metadata": {},
   "outputs": [],
   "source": [
    "from utils.topic_model import calculate_coherence, top_term\n",
    "\n",
    "k_values, coherences = [],[]\n",
    "for k in range(4,15):\n",
    "    # Get all of the topic descriptors - the term_rankings, based on top 10 terms\n",
    "    term_rankings = [top_term(terms, d[k][0], topic_index, 10) for topic_index in range(k)]\n",
    "\n",
    "    # Now calculate the coherence based on our Word2vec model\n",
    "    k_values.append(k)\n",
    "    coherences.append(calculate_coherence(f2t_m, term_rankings)) "
   ]
  },
  {
   "cell_type": "code",
   "execution_count": 25,
   "metadata": {},
   "outputs": [
    {
     "data": {
      "image/png": "[encoded data removed]",
      "text/plain": [
       "<Figure size 936x504 with 1 Axes>"
      ]
     },
     "metadata": {},
     "output_type": "display_data"
    }
   ],
   "source": [
    "import seaborn as sns \n",
    "import matplotlib.pyplot as plt\n",
    "%matplotlib inline\n",
    "\n",
    "plt.style.use(\"ggplot\")\n",
    "plt.rcParams.update({\"font.size\": 14})\n",
    "\n",
    "fig = plt.figure(figsize=(13,7))\n",
    "# create the line plot\n",
    "ax = plt.plot(k_values, coherences)\n",
    "plt.xticks(k_values)\n",
    "plt.xlabel(\"Number of Topics\")\n",
    "plt.ylabel(\"Mean Coherence\")\n",
    "# add the points\n",
    "plt.scatter(k_values, coherences, s=120)\n",
    "# find and annotate the maximum point on the plot\n",
    "ymax = max(coherences)\n",
    "xpos = coherences.index(ymax)\n",
    "best_k = k_values[xpos]\n",
    "plt.annotate( \"k=%d\" % best_k, xy=(best_k, ymax), xytext=(best_k, ymax), textcoords=\"offset points\", fontsize=16)\n",
    "# show the plot\n",
    "plt.show()"
   ]
  },
  {
   "cell_type": "code",
   "execution_count": 65,
   "metadata": {},
   "outputs": [],
   "source": [
    "p = Process(files, DATA_PATH, '-output.pkl')._iterate()"
   ]
  },
  {
   "cell_type": "code",
   "execution_count": 92,
   "metadata": {},
   "outputs": [],
   "source": [
    "df_1 = pd.concat([pd.DataFrame([p[k][s] for s in range(len(p[k]))]) for k in p.keys()],axis=0)"
   ]
  },
  {
   "cell_type": "code",
   "execution_count": 93,
   "metadata": {},
   "outputs": [],
   "source": [
    "import pandas as pd\n",
    "\n",
    "#processed = {k: data_init.preprocess(temp_[k], **process_val) for k in temp_.keys()}\n",
    "#df_1 = pd.concat([p[k] for k in p.keys()],axis=0).reset_index().drop(['index'],axis=1)"
   ]
  },
  {
   "cell_type": "code",
   "execution_count": 94,
   "metadata": {},
   "outputs": [],
   "source": [
    "#p.keys()"
   ]
  },
  {
   "cell_type": "code",
   "execution_count": 104,
   "metadata": {},
   "outputs": [],
   "source": [
    "#df_1[0].head()"
   ]
  },
  {
   "cell_type": "code",
   "execution_count": 60,
   "metadata": {
    "scrolled": false
   },
   "outputs": [
    {
     "name": "stdout",
     "output_type": "stream",
     "text": [
      "#=#=#=#=#=#=#=#=#=#=#=#=#=#=#=#=#=#=#=#=#=#=#=#=#=#=#=#=#=#=\n",
      "top terms for topic 0\n",
      "['payment', 'minimum', 'minimum_payment', 'due', 'late', 'payment_due', 'late_payment', 'return', 'statement', 'return_payment']\n",
      "==================================================\n",
      "top ground truth label: Payments  \n",
      " \n",
      "==================================================\n",
      "ground truth v. top headlines for topic 0\n",
      "           ground_truth\n",
      "1              PAYMENTS\n",
      "2              Payments\n",
      "3             PAYMENT $\n",
      "4              Payments\n",
      "5          PAYMENTS\\n\\n\n",
      "6         Payments  \\n \n",
      "7   Your payment. \\n\\n \n",
      "8   About your payments\n",
      "9         Payments  \\n \n",
      "10        Payments  \\n \n",
      "11  PAYMENTS.   \\n\\n   \n",
      "12        Payments  \\n \n",
      "13            PAYMENT $\n",
      "14  About your payments\n",
      "15        Payments  \\n \n",
      "\n",
      "#=#=#=#=#=#=#=#=#=#=#=#=#=#=#=#=#=#=#=#=#=#=#=#=#=#=#=#=#=#=\n",
      "top terms for topic 1\n",
      "['apr', 'rate', 'prime', 'prime_rate', 'base', 'market_base', 'vari_market', 'apr_vari', 'base_prime', 'vari']\n",
      "==================================================\n",
      "top ground truth label: 26.24% \n",
      "This APR will vary with the market based on the Prime Rate. \n",
      "==================================================\n",
      "ground truth v. top headlines for topic 1\n",
      "                                         ground_truth\n",
      "1   This APR will not vary with the Market based \\...\n",
      "2   Annual Percentage Rate (APR) for \\nPurchases 1...\n",
      "3   20.24% \\nThis APR will vary with the market ba...\n",
      "4   This APR will vary with the market based on th...\n",
      "5   Your APR will vary with the market based on th...\n",
      "6   18.49%\\nThis APR will vary with the market bas...\n",
      "7   14.99%\\nThis APR will vary with the market bas...\n",
      "8   5.50%    \\n     This APR will vary with the ma...\n",
      "9   19.99% - 30.99% Your APR will vary with the ma...\n",
      "10  These APRs will vary with the market based on ...\n",
      "11  These APRs will vary with the market based on ...\n",
      "12  This APR will vary with the market based on th...\n",
      "13  26.24% \\nThis APR will vary with the market ba...\n",
      "14  26.24% \\nThis APR will vary with the market ba...\n",
      "15  26.24% \\nThis APR will vary with the market ba...\n",
      "\n",
      "#=#=#=#=#=#=#=#=#=#=#=#=#=#=#=#=#=#=#=#=#=#=#=#=#=#=#=#=#=#=\n",
      "top terms for topic 2\n",
      "['credit', 'card', 'account', 'agreement', 'credit_card', 'use', 'union', 'credit_union', 'may', 'visa']\n",
      "==================================================\n",
      "top ground truth label: Collateral securing other loans you have with the Credit Union may also secure this loan, except tha\n",
      "==================================================\n",
      "ground truth v. top headlines for topic 2\n",
      "                                         ground_truth\n",
      "1   Collateral securing other loans you have with ...\n",
      "2   8. AUTHORIZATIONS — We do not guarantee author...\n",
      "3   Collateral securing other loans you have with ...\n",
      "4   12. LIABILITY FOR UNAUTHORIZED USE-LOST/STOLEN...\n",
      "5   Collateral securing other loans you have with ...\n",
      "6   Residents of all other states - Either You or ...\n",
      "7   Either you or the Credit Union may terminate t...\n",
      "8   Cards You receive remain the property of the C...\n",
      "9   1.0: ISSUER. Your Amegy Bank Card has been iss...\n",
      "10  You owe under this Agreement. Your obligation ...\n",
      "11  In this Agreement the words you and your mean ...\n",
      "12  When you are in default, the Credit Union has ...\n",
      "13  Effective Date 12/15/2018 \\n \\n1.0: ISSUER. Yo...\n",
      "14  Effective Date 12/15/2018 \\n \\n1.0: ISSUER. Yo...\n",
      "15  Page 6 of 9 \\nTerms are accurate as of 01/23/2...\n",
      "\n",
      "#=#=#=#=#=#=#=#=#=#=#=#=#=#=#=#=#=#=#=#=#=#=#=#=#=#=#=#=#=#=\n",
      "top terms for topic 3\n",
      "['amount', 'error', 'letter', 'question', 'receiv_letter', 'must', 'receiv', 'correct', 'amount_question', 'tell']\n",
      "==================================================\n",
      "top ground truth label: 15. Your Billing Rights: Keep this Document for Future Use. This notice tells you about your rights \n",
      "==================================================\n",
      "ground truth v. top headlines for topic 3\n",
      "                                         ground_truth\n",
      "1   9 \\n \\n\\n \\nIn your letter, give us the follow...\n",
      "2   In your letter, give us the following informat...\n",
      "3   In your letter, give us the following informat...\n",
      "4   You must notify us of any potential errors in ...\n",
      "5   You must notify us of any potential errors in ...\n",
      "6   15. Your Billing Rights: Keep this Document fo...\n",
      "7   What Will Happen After We Receive Your Letter ...\n",
      "8   What Will Happen After We Receive Your Letter ...\n",
      "9   WHAT WILL HAPPEN AFTER WE RECEIVE YOUR LETTER....\n",
      "10  Huntington Beach, CA 92647.\\nYou may also cont...\n",
      "11  15. Your Billing Rights: Keep this Document fo...\n",
      "12  16.  Your Billing Rights: Keep this Document f...\n",
      "13  What Will Happen After We Receive Your Letter ...\n",
      "14  When We receive Your letter, We must do two th...\n",
      "15  This notice tells you about your rights and ou...\n",
      "\n",
      "#=#=#=#=#=#=#=#=#=#=#=#=#=#=#=#=#=#=#=#=#=#=#=#=#=#=#=#=#=#=\n",
      "top terms for topic 4\n",
      "['fee', 'annual_fee', 'transact', 'none', 'annual', 'transact_fee', 'fee_none', 'payment_fee', 'foreign', 'penalti_fee']\n",
      "==================================================\n",
      "top ground truth label: Fees \n",
      "==================================================\n",
      "ground truth v. top headlines for topic 4\n",
      "   ground_truth\n",
      "1         Fees \n",
      "2         FEES:\n",
      "3         FEES:\n",
      "4         FEES:\n",
      "5         Fees \n",
      "6          FEES\n",
      "7          Fees\n",
      "8          FEES\n",
      "9          Fees\n",
      "10        Fees \n",
      "11     Fees \\n \n",
      "12        FEES \n",
      "13  OTHER FEES \n",
      "14        Fees \n",
      "15         Fees\n",
      "\n",
      "#=#=#=#=#=#=#=#=#=#=#=#=#=#=#=#=#=#=#=#=#=#=#=#=#=#=#=#=#=#=\n",
      "top terms for topic 5\n",
      "['balanc', 'advanc', 'cash', 'cash_advanc', 'transfer', 'balanc_transfer', 'purchas', 'daili', 'daili_balanc', 'transact']\n",
      "==================================================\n",
      "top ground truth label: Billing Rights: Information on your rights to dispute transactions and how to exercise those rights \n",
      "==================================================\n",
      "ground truth v. top headlines for topic 5\n",
      "                                         ground_truth\n",
      "1   Paying Interest \\nWhen Interest Charges Begin ...\n",
      "2   When Interest Begins to Accrue\\nSubject to any...\n",
      "3   Billing Rights: Information on your rights to ...\n",
      "4   INTEREST CHARGES ON CASH ADVANCES AND BALANCE ...\n",
      "5   Purchases outstanding during a Billing Cycle (...\n",
      "6   Purchases outstanding during a Billing Cycle (...\n",
      "7   Interest: We will charge and you agree to pay ...\n",
      "8   Billing Rights: Information on your rights to ...\n",
      "9   Billing Rights:  Information on your rights to...\n",
      "10  FINANCE CHARGES. For purchase, cash advance, a...\n",
      "11  FINANCE CHARGES. For purchase, cash advance, a...\n",
      "12  4. FINANCE CHARGES — New purchases posted to y...\n",
      "13  4. FINANCE CHARGES — New purchases posted to y...\n",
      "14  7. Interest Charges. Interest charges for purc...\n",
      "15  Cash Advances: The Finance Charge on Cash Adva...\n",
      "\n",
      "#=#=#=#=#=#=#=#=#=#=#=#=#=#=#=#=#=#=#=#=#=#=#=#=#=#=#=#=#=#=\n",
      "top terms for topic 6\n",
      "['interest', 'charg', 'interest_charg', 'interest_rate', 'rate_interest', 'rate', 'minimum_interest', 'charg_interest', 'pay_interest', 'pay']\n",
      "==================================================\n",
      "top ground truth label: Interest Rates and Interest Charges \n",
      "==================================================\n",
      "ground truth v. top headlines for topic 6\n",
      "                               ground_truth\n",
      "1       Interest Rates and Interest Charges\n",
      "2   Interest Rates and Interest Charges \\n \n",
      "3    Interest Rate and Interest Charges \\n \n",
      "4   Interest Rates and Interest Charges \\n \n",
      "5      INTEREST RATES and INTEREST CHARGES:\n",
      "6      Interest Rates and Interest Charges \n",
      "7       Interest Rates and Interest Charges\n",
      "8      Interest Rates and Interest Charges \n",
      "9      INTEREST RATES and INTEREST CHARGES:\n",
      "10     Interest Rates and Interest Charges \n",
      "11  Interest Rates and Interest Charges \\n \n",
      "12      Interest Rates and Interest Charges\n",
      "13     Interest Rates and Interest Charges \n",
      "14      Interest Rate and Interest Charges \n",
      "15    Interest Rates and Interest Charges  \n",
      "\n",
      "#=#=#=#=#=#=#=#=#=#=#=#=#=#=#=#=#=#=#=#=#=#=#=#=#=#=#=#=#=#=\n",
      "top terms for topic 7\n",
      "['credit_card', 'consum_financi', 'bureau', 'protect_bureau', 'financi_protect', 'consum', 'protect', 'financi', 'card', 'tip']\n",
      "==================================================\n",
      "top ground truth label: For Credit Card Tips from the Consumer To learn more about factors to consider when applying for or \n",
      "==================================================\n",
      "ground truth v. top headlines for topic 7\n",
      "                                         ground_truth\n",
      "1   For Credit Card Tips \\nfrom the Consumer \\nFin...\n",
      "2   For Credit Card Tips From the Consumer Financi...\n",
      "3   For Credit Card Tips from the Consumer Financi...\n",
      "4   FOR CREDIT CARD TIPS FROM THE CONSUMER FINANCI...\n",
      "5   For Credit Card tips from the To learn more ab...\n",
      "6   For Credit Card Tips from \\nthe Consumer Finan...\n",
      "7   For Credit Card Tips To learn more about facto...\n",
      "8   For Credit Card Tips from the Consumer To lear...\n",
      "9   For Credit Card Tips from the Consumer To lear...\n",
      "10  For Credit Card Tips from To learn more about ...\n",
      "11  For Credit Card Tips from the   To learn more ...\n",
      "12  To learn more about factors to consider when a...\n",
      "13  To learn more about factors to consider when a...\n",
      "14  To learn more about factors to consider when a...\n",
      "15  To learn more about factors to consider when a...\n",
      "\n"
     ]
    }
   ],
   "source": [
    "from utils.topic_model import get_top_snippets\n",
    "\n",
    "k = 8\n",
    "W = d[k][0]\n",
    "H = d[k][1]\n",
    "\n",
    "\n",
    "sentences = [headline[0:min(len(headline),100)] for headline in data[0]]\n",
    "descriptors = [top_term(terms, H, topic_index, 10) for topic_index in range(k)]\n",
    "\n",
    "\n",
    "hand_label = {}\n",
    "for i in range(k):\n",
    "    topic = i\n",
    "    headlines = 15\n",
    "\n",
    "    d_ = {i+1: sentences\n",
    "             for i,sentences in enumerate(get_top_snippets(sentences, W, topic, headlines))\n",
    "        }\n",
    "    \n",
    "    hand_label[i] = pd.DataFrame.from_dict(d_, orient='index').rename(columns={0:'ground_truth',1:'NMF categorized'})\n",
    "    temp_ = pd.DataFrame.from_dict(d_, orient='index').rename(columns={0:'ground_truth',1:'NMF categorized'})\n",
    "\n",
    "\n",
    "    print('#''='*30)\n",
    "    print(f'top terms for topic {topic}')\n",
    "    print(descriptors[topic])\n",
    "\n",
    "    print('='*50)\n",
    "    gt_top = temp_['ground_truth'].value_counts().index[0]\n",
    "    print(f'top ground truth label: {gt_top}')\n",
    "\n",
    "    print('='*50)\n",
    "    print(f'ground truth v. top headlines for topic {topic}')\n",
    "    print(temp_)\n",
    "    print('')"
   ]
  },
  {
   "cell_type": "markdown",
   "metadata": {},
   "source": [
    "##### Bootstrap - label"
   ]
  },
  {
   "cell_type": "code",
   "execution_count": 92,
   "metadata": {},
   "outputs": [],
   "source": [
    "#create a label column right here \n",
    "\n",
    "labels = ['payment','rate','agreement','error','fee','purchases','interest','credit_tips']\n",
    "\n",
    "for k in hand_label.keys():\n",
    "    hand_label[k]['label'] = labels[k]"
   ]
  },
  {
   "cell_type": "code",
   "execution_count": 103,
   "metadata": {},
   "outputs": [],
   "source": [
    "hand_label[0] = hand_label[0].drop(['new_column'],axis=1)"
   ]
  },
  {
   "cell_type": "code",
   "execution_count": 104,
   "metadata": {},
   "outputs": [],
   "source": [
    "label = ['label']\n",
    "\n",
    "hl = pd.concat([hand_label[k] for k in hand_label.keys()],axis=0).reset_index().drop(['index'],axis=1)"
   ]
  },
  {
   "cell_type": "code",
   "execution_count": 114,
   "metadata": {},
   "outputs": [
    {
     "data": {
      "text/html": [
       "<div>\n",
       "<style scoped>\n",
       "    .dataframe tbody tr th:only-of-type {\n",
       "        vertical-align: middle;\n",
       "    }\n",
       "\n",
       "    .dataframe tbody tr th {\n",
       "        vertical-align: top;\n",
       "    }\n",
       "\n",
       "    .dataframe thead th {\n",
       "        text-align: right;\n",
       "    }\n",
       "</style>\n",
       "<table border=\"1\" class=\"dataframe\">\n",
       "  <thead>\n",
       "    <tr style=\"text-align: right;\">\n",
       "      <th></th>\n",
       "      <th>ground_truth</th>\n",
       "      <th>label</th>\n",
       "    </tr>\n",
       "  </thead>\n",
       "  <tbody>\n",
       "    <tr>\n",
       "      <th>0</th>\n",
       "      <td>PAYMENTS</td>\n",
       "      <td>payment</td>\n",
       "    </tr>\n",
       "    <tr>\n",
       "      <th>1</th>\n",
       "      <td>Payments</td>\n",
       "      <td>payment</td>\n",
       "    </tr>\n",
       "    <tr>\n",
       "      <th>2</th>\n",
       "      <td>PAYMENT $</td>\n",
       "      <td>payment</td>\n",
       "    </tr>\n",
       "    <tr>\n",
       "      <th>3</th>\n",
       "      <td>Payments</td>\n",
       "      <td>payment</td>\n",
       "    </tr>\n",
       "    <tr>\n",
       "      <th>4</th>\n",
       "      <td>PAYMENTS\\n\\n</td>\n",
       "      <td>payment</td>\n",
       "    </tr>\n",
       "  </tbody>\n",
       "</table>\n",
       "</div>"
      ],
      "text/plain": [
       "   ground_truth    label\n",
       "0      PAYMENTS  payment\n",
       "1      Payments  payment\n",
       "2     PAYMENT $  payment\n",
       "3      Payments  payment\n",
       "4  PAYMENTS\\n\\n  payment"
      ]
     },
     "execution_count": 114,
     "metadata": {},
     "output_type": "execute_result"
    }
   ],
   "source": [
    "#train a classifier\n",
    "\n",
    "hl.head()"
   ]
  },
  {
   "cell_type": "code",
   "execution_count": 139,
   "metadata": {},
   "outputs": [],
   "source": [
    "import nltk\n",
    "from nltk.corpus import stopwords\n",
    "from nltk.stem.snowball import SnowballStemmer\n",
    "from nltk import bigrams,trigrams\n",
    "\n",
    "def preprocess(text, **kwargs):\n",
    "        '''\n",
    "        Basic NLP preprocessor\n",
    "        -removes stop words\n",
    "        -n-grams\n",
    "        -stem\n",
    "        -simple gensim preprocessor\n",
    "        '''\n",
    "\n",
    "        stopwords_ = kwargs.get('stopwords')\n",
    "        cust_sw = kwargs.get('custom_sw')\n",
    "        stemmer = kwargs.get('stemmer')\n",
    "        ngrams = kwargs.get('ngrams')\n",
    "\n",
    "        text = text.apply(gensim.utils.simple_preprocess, min_len=3)\n",
    "        \n",
    "        sw = set(stopwords.words(stopwords_))\n",
    "        custom_sw = set(cust_sw)\n",
    "\n",
    "        if stopwords_: text = text.apply(lambda s: [w for w in s if w not in sw]) \n",
    "\n",
    "        if custom_sw: text = text.apply(lambda s: [w for w in s if w not in custom_sw])\n",
    "\n",
    "        if stemmer=='yes': text = text.apply(lambda s: [SnowballStemmer(\"english\", ignore_stopwords=True).stem(w) for w in s])\n",
    "\n",
    "        if ngrams=='bigrams': \n",
    "            text = text.apply(lambda s: ['_'.join(x) for x in nltk.bigrams(s)] + s)\n",
    "\n",
    "        elif ngrams=='trigrams':\n",
    "            text = text.apply(lambda s: ['_'.join(x) for x in nltk.trigrams(s)] + s)\n",
    "\n",
    "        return text"
   ]
  },
  {
   "cell_type": "code",
   "execution_count": 149,
   "metadata": {},
   "outputs": [],
   "source": [
    "hl['ground_truth'] = preprocess(hl['ground_truth'],**process_val).apply(lambda x:', '.join(map(str, x)))\n",
    "\n"
   ]
  },
  {
   "cell_type": "code",
   "execution_count": 152,
   "metadata": {},
   "outputs": [],
   "source": [
    "from sklearn.feature_extraction.text import CountVectorizer, TfidfVectorizer\n"
   ]
  },
  {
   "cell_type": "code",
   "execution_count": 154,
   "metadata": {},
   "outputs": [],
   "source": [
    "tfidf = TfidfVectorizer(max_df=0.5, \n",
    "                        min_df=20)\n",
    "\n",
    "tfidf_ = tfidf.fit_transform(hl['ground_truth'])"
   ]
  },
  {
   "cell_type": "code",
   "execution_count": 226,
   "metadata": {},
   "outputs": [
    {
     "name": "stdout",
     "output_type": "stream",
     "text": [
      "dumping file to pkl...\n",
      "done\n"
     ]
    }
   ],
   "source": [
    "print('dumping file to pkl...')\n",
    "output = open('./data/keras-data.pkl', 'wb')\n",
    "pickle.dump((tfidf_,hl['label']), output)\n",
    "output.close()\n",
    "print('done')\n",
    "    \n",
    "\n",
    "\n",
    "#tfidf_,hl['label']) = joblib.dump('./data/keras-data.pkl')"
   ]
  },
  {
   "cell_type": "code",
   "execution_count": 156,
   "metadata": {},
   "outputs": [],
   "source": [
    "import sklearn.metrics as metrics\n",
    "from sklearn.metrics import roc_curve, auc\n",
    "\n",
    "#roc plot\n",
    "\n",
    "def roc_plot(fpr, tpr, roc_auc):\n",
    "    # method I: plt\n",
    "    import matplotlib.pyplot as plt\n",
    "    plt.title('Receiver Operating Characteristic')\n",
    "    plt.plot(fpr, tpr, 'b', label = 'AUC = %0.2f' % roc_auc)\n",
    "    plt.legend(loc = 'lower right')\n",
    "    plt.plot([0, 1], [0, 1],'r--')\n",
    "    plt.xlim([0, 1])\n",
    "    plt.ylim([0, 1])\n",
    "    plt.ylabel('True Positive Rate')\n",
    "    plt.xlabel('False Positive Rate')\n",
    "    plt.show()"
   ]
  },
  {
   "cell_type": "code",
   "execution_count": 157,
   "metadata": {},
   "outputs": [],
   "source": [
    "from sklearn.naive_bayes import MultinomialNB\n",
    "from sklearn.metrics import classification_report, confusion_matrix\n",
    "from sklearn.model_selection import train_test_split\n",
    "\n",
    "clf = MultinomialNB()"
   ]
  },
  {
   "cell_type": "code",
   "execution_count": 159,
   "metadata": {},
   "outputs": [
    {
     "name": "stdout",
     "output_type": "stream",
     "text": [
      "             precision    recall  f1-score   support\n",
      "\n",
      "  agreement       0.50      0.33      0.40         3\n",
      "credit_tips       0.67      0.80      0.73         5\n",
      "      error       0.22      1.00      0.36         2\n",
      "        fee       0.00      0.00      0.00         4\n",
      "   interest       1.00      1.00      1.00         3\n",
      "    payment       0.00      0.00      0.00         3\n",
      "  purchases       1.00      1.00      1.00         2\n",
      "       rate       1.00      1.00      1.00         2\n",
      "\n",
      "avg / total       0.51      0.58      0.52        24\n",
      "\n"
     ]
    }
   ],
   "source": [
    "X,y = tfidf_, hl['label']\n",
    "X_train, X_test, y_train, y_test = train_test_split(X, y, test_size = 0.2, random_state = 465)\n",
    "clf.fit(X_train,y_train)\n",
    "y_pred = clf.predict(X_test)\n",
    "print(classification_report(y_test, y_pred))"
   ]
  },
  {
   "cell_type": "code",
   "execution_count": 160,
   "metadata": {},
   "outputs": [
    {
     "name": "stderr",
     "output_type": "stream",
     "text": [
      "/usr/local/lib/python3.7/site-packages/sklearn/ensemble/weight_boosting.py:29: DeprecationWarning: numpy.core.umath_tests is an internal NumPy module and should not be imported. It will be removed in a future NumPy release.\n",
      "  from numpy.core.umath_tests import inner1d\n"
     ]
    }
   ],
   "source": [
    "from sklearn import ensemble\n",
    "from sklearn.model_selection import cross_val_score\n",
    "\n",
    "rfc = ()"
   ]
  },
  {
   "cell_type": "code",
   "execution_count": 166,
   "metadata": {},
   "outputs": [],
   "source": [
    "# We'll make 500 iterations, use 2-deep trees, and set our loss function.\n",
    "params = {'n_estimators': 1000,\n",
    "          'max_depth': 3,\n",
    "          'loss': 'deviance'}\n",
    "\n",
    "# Initialize and fit the model.\n",
    "ens = ensemble.GradientBoostingClassifier(**params)"
   ]
  },
  {
   "cell_type": "code",
   "execution_count": 167,
   "metadata": {},
   "outputs": [
    {
     "name": "stdout",
     "output_type": "stream",
     "text": [
      "             precision    recall  f1-score   support\n",
      "\n",
      "  agreement       0.75      1.00      0.86         3\n",
      "credit_tips       1.00      0.80      0.89         5\n",
      "      error       0.22      1.00      0.36         2\n",
      "        fee       0.00      0.00      0.00         4\n",
      "   interest       1.00      1.00      1.00         3\n",
      "    payment       0.00      0.00      0.00         3\n",
      "  purchases       1.00      1.00      1.00         2\n",
      "       rate       1.00      1.00      1.00         2\n",
      "\n",
      "avg / total       0.61      0.67      0.61        24\n",
      "\n"
     ]
    }
   ],
   "source": [
    "X,y = tfidf_, hl['label']\n",
    "X_train, X_test, y_train, y_test = train_test_split(X, y, test_size = 0.2, random_state = 465)\n",
    "ens.fit(X_train,y_train)\n",
    "y_pred = ens.predict(X_test)\n",
    "\n",
    "print(classification_report(y_test, y_pred))"
   ]
  },
  {
   "cell_type": "code",
   "execution_count": 221,
   "metadata": {},
   "outputs": [],
   "source": [
    "from sklearn.ensemble import VotingClassifier\n",
    "from sklearn.svm import SVC\n",
    "from sklearn.metrics import classification_report, confusion_matrix\n",
    "from sklearn.model_selection import train_test_split\n",
    "from sklearn.naive_bayes import GaussianNB\n",
    "from sklearn.ensemble import RandomForestClassifier\n",
    "from xgboost import XGBClassifier\n",
    "from sklearn.model_selection import GridSearchCV\n",
    "\n",
    "\n",
    "svc_params ={'kernel':('linear', 'rbf'), 'C':[1, 10]}\n",
    "\n",
    "rfc_params = {\n",
    "    'n_estimators': [50, 150, 250, 350, 450],\n",
    "    'max_features': ['sqrt', 0.25, 0.5, 0.75, 1.0],\n",
    "    'min_samples_split': [2, 4, 6, 8]\n",
    "}\n",
    "\n",
    "\n",
    "clf1 = GridSearchCV(SVC(probability=True), svc_params)\n",
    "clf2 = GaussianNB()\n",
    "rf_model = RandomForestClassifier(random_state=1)\n",
    "clf3 = GridSearchCV(rf_model, rfc_params, cv=5)\n",
    "\n",
    "\n",
    "eclf = VotingClassifier(estimators=[('svc', clf1),\n",
    "                                    ('gnb', clf2),\n",
    "                                    ('ens',ens),\n",
    "                                    ('rfc', clf3)], \n",
    "                                    voting='soft')"
   ]
  },
  {
   "cell_type": "code",
   "execution_count": 222,
   "metadata": {},
   "outputs": [
    {
     "name": "stdout",
     "output_type": "stream",
     "text": [
      "             precision    recall  f1-score   support\n",
      "\n",
      "  agreement       0.75      1.00      0.86         3\n",
      "credit_tips       1.00      0.80      0.89         5\n",
      "      error       0.00      0.00      0.00         2\n",
      "        fee       0.00      0.00      0.00         4\n",
      "   interest       1.00      1.00      1.00         3\n",
      "    payment       0.33      1.00      0.50         3\n",
      "  purchases       1.00      1.00      1.00         2\n",
      "       rate       1.00      1.00      1.00         2\n",
      "\n",
      "avg / total       0.64      0.71      0.65        24\n",
      "\n"
     ]
    },
    {
     "name": "stderr",
     "output_type": "stream",
     "text": [
      "/usr/local/lib/python3.7/site-packages/sklearn/preprocessing/label.py:151: DeprecationWarning: The truth value of an empty array is ambiguous. Returning False, but in future this will result in an error. Use `array.size > 0` to check that an array is not empty.\n",
      "  if diff:\n",
      "/usr/local/lib/python3.7/site-packages/sklearn/metrics/classification.py:1135: UndefinedMetricWarning: Precision and F-score are ill-defined and being set to 0.0 in labels with no predicted samples.\n",
      "  'precision', 'predicted', average, warn_for)\n"
     ]
    }
   ],
   "source": [
    "X,y = tfidf_.toarray(), hl['label']\n",
    "X_train, X_test, y_train, y_test = train_test_split(X, y, test_size = 0.2, random_state = 465)\n",
    "eclf.fit(X_train,y_train)\n",
    "y_pred = eclf.predict(X_test)\n",
    "\n",
    "print(classification_report(y_test, y_pred))"
   ]
  },
  {
   "cell_type": "code",
   "execution_count": 258,
   "metadata": {},
   "outputs": [],
   "source": [
    "text = ['This APR will vary with the market based on the Prime Rate.', 'another sentence']\n",
    "\n",
    "custom_stopwords = ['aaa']\n",
    "\n",
    "process_val = {'stopwords':'english',\n",
    "               'custom_sw':custom_stopwords,\n",
    "               'stemmer':'yes',\n",
    "               'ngrams':'bigrams'}\n",
    "\n",
    "test = preprocess(pd.Series(text), **process_val).apply(lambda x:', '.join(map(str, x)))"
   ]
  },
  {
   "cell_type": "code",
   "execution_count": 264,
   "metadata": {},
   "outputs": [],
   "source": [
    "from sklearn.feature_extraction.text import CountVectorizer, TfidfVectorizer\n",
    "from sklearn.feature_extraction.text import TfidfTransformer\n",
    "\n",
    "tfidf = TfidfVectorizer()\n",
    "\n",
    "tfidf__ = tfidf.fit_transform(test)"
   ]
  },
  {
   "cell_type": "code",
   "execution_count": 322,
   "metadata": {},
   "outputs": [],
   "source": [
    "X,y = hl['ground_truth'], hl['label']\n",
    "X_train, X_test, y_train, y_test = train_test_split(X, y, test_size = 0.2, random_state = 465)"
   ]
  },
  {
   "cell_type": "code",
   "execution_count": 323,
   "metadata": {},
   "outputs": [],
   "source": [
    "from sklearn.pipeline import Pipeline\n",
    "text_clf = Pipeline([\n",
    "    ('vect', CountVectorizer()),\n",
    "    ('tfidf', TfidfTransformer()),\n",
    "    ('clf', MultinomialNB()),\n",
    "])"
   ]
  },
  {
   "cell_type": "code",
   "execution_count": 324,
   "metadata": {},
   "outputs": [
    {
     "data": {
      "text/plain": [
       "Pipeline(memory=None,\n",
       "     steps=[('vect', CountVectorizer(analyzer='word', binary=False, decode_error='strict',\n",
       "        dtype=<class 'numpy.int64'>, encoding='utf-8', input='content',\n",
       "        lowercase=True, max_df=1.0, max_features=None, min_df=1,\n",
       "        ngram_range=(1, 1), preprocessor=None, stop_words=None,\n",
       "        strip...inear_tf=False, use_idf=True)), ('clf', MultinomialNB(alpha=1.0, class_prior=None, fit_prior=True))])"
      ]
     },
     "execution_count": 324,
     "metadata": {},
     "output_type": "execute_result"
    }
   ],
   "source": [
    "text_clf.fit(X_train,y_train)"
   ]
  },
  {
   "cell_type": "code",
   "execution_count": 325,
   "metadata": {},
   "outputs": [
    {
     "name": "stdout",
     "output_type": "stream",
     "text": [
      "             precision    recall  f1-score   support\n",
      "\n",
      "  agreement       1.00      0.67      0.80         3\n",
      "credit_tips       0.83      1.00      0.91         5\n",
      "      error       1.00      1.00      1.00         2\n",
      "        fee       1.00      1.00      1.00         4\n",
      "   interest       1.00      1.00      1.00         3\n",
      "    payment       1.00      1.00      1.00         3\n",
      "  purchases       1.00      1.00      1.00         2\n",
      "       rate       1.00      1.00      1.00         2\n",
      "\n",
      "avg / total       0.97      0.96      0.96        24\n",
      "\n"
     ]
    }
   ],
   "source": [
    "y_pred = text_clf.predict(X_test)\n",
    "\n",
    "print(classification_report(y_test, y_pred))"
   ]
  },
  {
   "cell_type": "code",
   "execution_count": 340,
   "metadata": {},
   "outputs": [
    {
     "data": {
      "text/plain": [
       "array(['error', 'interest', 'credit_tips', 'rate'], dtype='<U11')"
      ]
     },
     "execution_count": 340,
     "metadata": {},
     "output_type": "execute_result"
    }
   ],
   "source": [
    "docs_new = ['Billing Rights: This notice tells you about your rights',\n",
    "            'INTEREST RATES and INTEREST CHARGES',\n",
    "            'For Credit Card Tips from the Consumer To learn more about factors to consider when applying for or',\n",
    "            'This APR will vary with the market based on the Prime Rate.'\n",
    "           ]\n",
    "\n",
    "docs_new = preprocess(pd.Series(docs_new),**process_val).apply(lambda x:', '.join(map(str, x)))\n",
    "\n",
    "text_clf.predict(docs_new)"
   ]
  },
  {
   "cell_type": "code",
   "execution_count": 341,
   "metadata": {},
   "outputs": [],
   "source": [
    "new_init = Process(files, DATA_PATH, 'pdf-output-3.pkl')\n",
    "\n",
    "new_data = new_init._iterate()"
   ]
  },
  {
   "cell_type": "code",
   "execution_count": 347,
   "metadata": {},
   "outputs": [
    {
     "data": {
      "text/plain": [
       "'IMPORTANT CREDIT CARD DISCLOSURES \\nThe following disclosure represents important details concerning your credit card. The information about costs of the card are \\naccurate as of 01/01/2016. You can contact us toll free at 800.873.5100 or the address above to inquire if any changes \\noccurred since the effective date. '"
      ]
     },
     "execution_count": 347,
     "metadata": {},
     "output_type": "execute_result"
    }
   ],
   "source": [
    "new_data['IBMSECU'][3]"
   ]
  },
  {
   "cell_type": "code",
   "execution_count": null,
   "metadata": {},
   "outputs": [],
   "source": [
    "new_data['121 Financial Credit Union']"
   ]
  },
  {
   "cell_type": "code",
   "execution_count": 356,
   "metadata": {},
   "outputs": [
    {
     "name": "stdout",
     "output_type": "stream",
     "text": [
      "PdfHandler.ashx\n",
      "\n",
      "\n",
      "© CUNA  ['purchases']\n",
      "APPLICATION AND\n",
      "SOLICITAT ['error']\n",
      "Interest Rates and Intere ['interest']\n",
      "Visa Platinum ['error']\n",
      "Visa Platinum Rewards\n",
      ", , ['rate']\n",
      "Visa Signature\n",
      ", , , or , ['rate']\n",
      "APR for Balance Transfers ['purchases']\n",
      "Visa Platinum Rewards\n",
      ", , ['rate']\n",
      "Visa Signature\n",
      ", , , or , ['rate']\n",
      "APR for Cash Advances Vis ['purchases']\n",
      "Visa Platinum Rewards\n",
      ", , ['rate']\n",
      "Visa Signature\n",
      ", , , or , ['rate']\n",
      "SEE NEXT PAGE for more im ['error']\n",
      "VISA PLATINUM/VISA PLATIN ['error']\n",
      "14.40% ['error']\n",
      "11.24% 12.24% 13.24% 16.2 ['error']\n",
      "12.24% 13.24% 16.24% 17.2 ['error']\n",
      "14.40% ['error']\n",
      "11.24% 12.24% 13.24% 16.2 ['error']\n",
      "12.24% 13.24% 16.24% 17.2 ['error']\n",
      "14.40% ['error']\n",
      "11.24% 12.24% 13.24% 16.2 ['error']\n",
      "12.24% 13.24% 16.24% 17.2 ['purchases']\n",
      "Penalty APR and When it A ['rate']\n",
      "Visa Platinum Rewards ['error']\n",
      "Visa Signature ['error']\n",
      "This APR may be applied t ['payment']\n",
      "How Long Will the Penalty ['rate']\n",
      "How to Avoid Paying Inter ['purchases']\n",
      "Your due date is at least ['purchases']\n",
      "For Credit Card Tips from ['credit_tips']\n",
      "To learn more about facto ['credit_tips']\n",
      "Fees\n",
      "Annual Fee\n",
      "- Annual  ['fee']\n",
      "None ['error']\n",
      "- Annual Fee - Visa Signa ['fee']\n",
      "- Cash Advance Fee - Visa ['purchases']\n",
      "- Foreign Transaction Fee ['fee']\n",
      "How We Will Calculate You ['purchases']\n",
      "Application of Penalty AP ['rate']\n",
      "Effective Date:\n",
      "The infor ['agreement']\n",
      "For California Borrowers, ['agreement']\n",
      "SEE NEXT PAGE for more im ['error']\n",
      "17.90% ['error']\n",
      "17.90% ['error']\n",
      "17.90% ['error']\n",
      "July 1, 2018\n",
      "\n",
      "\n",
      "\n",
      "© CUNA Mu ['agreement']\n",
      "Other Fees & Disclosures: ['payment']\n",
      "Annual Fee - Visa Signatu ['fee']\n",
      "Cash Advance Fee (Finance ['purchases']\n",
      "Cash Advance Fee (Finance ['purchases']\n",
      "Returned Payment Fee:\n",
      "$25 ['payment']\n",
      "Returned Convenience Chec ['fee']\n",
      "Card Replacement Fee:\n",
      "$10 ['fee']\n",
      "Document Copy Fee:\n",
      "$2.00  ['fee']\n",
      "Pay-by-Phone Fee:\n",
      "$10.00. ['fee']\n",
      "Rush Fee:\n",
      "$50.00 second d ['fee']\n",
      "Statement Copy Fee:\n",
      "$5.00 ['fee']\n",
      "Convenience or Balance Tr ['purchases']\n",
      "CREDIT CARD\n",
      "APPLICATION ['credit_tips']\n",
      "There are costs associate ['credit_tips']\n",
      "Check below to indicate t ['credit_tips']\n",
      "1. you live in or the pro ['credit_tips']\n",
      "Applicant Date ['agreement']\n",
      "X (Seal) ['error']\n",
      "Co-Applicant Date ['agreement']\n",
      "X (Seal)\n",
      " Credit Limit Re ['agreement']\n",
      "Guarantors Complete OTHER ['error']\n",
      "ACCOUNT NUMBER SOCIAL SEC ['agreement']\n",
      "BIRTH DATE EMAIL ADDRESS  ['agreement']\n",
      "HOME PHONE CELL PHONE BUS ['error']\n",
      "DRIVER’S LICENSE NUMBER/S ['agreement']\n",
      "PRESENT ADDRESS (Street – ['agreement']\n",
      "LENGTH AT RESIDENCE LENGT ['agreement']\n",
      "PREVIOUS ADDRESS (Street  ['agreement']\n",
      "LENGTH AT RESIDENCE LENGT ['agreement']\n",
      "MORTGAGE/RENT OWED TO MOR ['agreement']\n",
      "MORTGAGE BALANCE\n",
      "$ ['purchases']\n",
      "MONTHLY PAYMENT\n",
      "$ ['payment']\n",
      "INTEREST RATE\n",
      "% ['interest']\n",
      "MORTGAGE BALANCE\n",
      "$ ['purchases']\n",
      "MONTHLY PAYMENT\n",
      "$ ['payment']\n",
      "INTEREST RATE\n",
      "% ['interest']\n",
      "COMPLETE FOR JOINT CREDIT ['agreement']\n",
      "COMPLETE FOR JOINT CREDIT ['agreement']\n",
      "MARRIED SEPARATED UNMARRI ['error']\n",
      "EMPLOYMENT/INCOME START D ['agreement']\n",
      "NOTICE: ALIMONY, CHILD SU ['error']\n",
      "NOTICE: ALIMONY, CHILD SU ['error']\n",
      "EMPLOYMENT INCOME\n",
      "$ ['error']\n",
      "PER OTHER INCOME\n",
      "$ ['error']\n",
      "PER EMPLOYMENT INCOME\n",
      "$ ['error']\n",
      "PER OTHER INCOME\n",
      "$ ['error']\n",
      "PER ['error']\n",
      "TITLE/GRADE SOURCE TITLE/ ['error']\n",
      "PREVIOUS EMPLOYER NAME AN ['error']\n",
      "STARTING DATE ENDING DATE ['agreement']\n",
      "00910226-AXX00-C-1-071117 ['error']\n",
      "MILITARY: IS DUTY STATION ['purchases']\n",
      "CONSENT TO CONTACT ['error']\n",
      "BY SIGNING BELOW, YOU AUT ['agreement']\n",
      "Applicant’s Signature Dat ['agreement']\n",
      "X (Seal) ['error']\n",
      "Other Signature Date ['agreement']\n",
      "X (Seal)\n",
      "By executing thi ['error']\n",
      "In order to help mitigate ['error']\n",
      "STATE LAW NOTICE(S)\n",
      "Notic ['agreement']\n",
      "Signature for Wisconsin R ['agreement']\n",
      "X (Seal)\n",
      "\n",
      " ['error']\n",
      "00910226-AXX00-C-1-071117 ['error']\n",
      "CONSENSUAL SECURITY INTER ['agreement']\n",
      "By signing or otherwise a ['credit_tips']\n",
      "Security Interest Acknowl ['interest']\n",
      "X (Seal) ['error']\n",
      "Security Interest Acknowl ['interest']\n",
      "X (Seal)\n",
      "SIGNATURES\n",
      "By si ['agreement']\n",
      "2. You understand that th ['credit_tips']\n",
      "Applicant’s Signature Dat ['agreement']\n",
      "X (Seal) ['error']\n",
      "Other Signature Date ['agreement']\n",
      "X (Seal)\n",
      "CREDIT UNION USE ['agreement']\n",
      "DATE APPROVED\n",
      "DECLINED ['agreement']\n",
      "NUMBER OF CARDS CREDIT LI ['credit_tips']\n",
      "CREDIT CARD NUMBER ['credit_tips']\n",
      "Signatures ['error']\n",
      "Date ['agreement']\n",
      "X (Seal) ['error']\n",
      "Date ['agreement']\n",
      "X (Seal)\n",
      "\n",
      "\n",
      "\n",
      "\n",
      "\n",
      "\n",
      "\n",
      "\n",
      "\n",
      "\n",
      "\n",
      "\n",
      "\n",
      "\n",
      "\n",
      "\n",
      " ['error']\n",
      "AXX00-C-1-071117_CC%20App ['purchases']\n",
      "CREDIT CARD\n",
      "APPLICATION ['credit_tips']\n",
      "There are costs associate ['credit_tips']\n",
      "Check below to indicate t ['credit_tips']\n",
      "1. you live in or the pro ['credit_tips']\n",
      "Applicant Date ['agreement']\n",
      "X (Seal) ['error']\n",
      "Co-Applicant Date ['agreement']\n",
      "X (Seal)\n",
      " Credit Limit Re ['agreement']\n",
      "Guarantors Complete OTHER ['error']\n",
      "ACCOUNT NUMBER SOCIAL SEC ['agreement']\n",
      "BIRTH DATE EMAIL ADDRESS  ['agreement']\n",
      "HOME PHONE CELL PHONE BUS ['error']\n",
      "DRIVER’S LICENSE NUMBER/S ['agreement']\n",
      "PRESENT ADDRESS (Street – ['agreement']\n",
      "LENGTH AT RESIDENCE LENGT ['agreement']\n",
      "PREVIOUS ADDRESS (Street  ['agreement']\n",
      "LENGTH AT RESIDENCE LENGT ['agreement']\n",
      "MORTGAGE/RENT OWED TO MOR ['agreement']\n",
      "MORTGAGE BALANCE\n",
      "$ ['purchases']\n",
      "MONTHLY PAYMENT\n",
      "$ ['payment']\n",
      "INTEREST RATE\n",
      "% ['interest']\n",
      "MORTGAGE BALANCE\n",
      "$ ['purchases']\n",
      "MONTHLY PAYMENT\n",
      "$ ['payment']\n",
      "INTEREST RATE\n",
      "% ['interest']\n",
      "COMPLETE FOR JOINT CREDIT ['agreement']\n",
      "COMPLETE FOR JOINT CREDIT ['agreement']\n",
      "MARRIED SEPARATED UNMARRI ['error']\n",
      "EMPLOYMENT/INCOME START D ['agreement']\n",
      "NOTICE: ALIMONY, CHILD SU ['error']\n",
      "NOTICE: ALIMONY, CHILD SU ['error']\n",
      "EMPLOYMENT INCOME\n",
      "$ ['error']\n",
      "PER OTHER INCOME\n",
      "$ ['error']\n",
      "PER EMPLOYMENT INCOME\n",
      "$ ['error']\n",
      "PER OTHER INCOME\n",
      "$ ['error']\n",
      "PER ['error']\n",
      "TITLE/GRADE SOURCE TITLE/ ['error']\n",
      "PREVIOUS EMPLOYER NAME AN ['error']\n",
      "STARTING DATE ENDING DATE ['agreement']\n",
      "00910226-AXX00-C-1-071117 ['error']\n",
      "MILITARY: IS DUTY STATION ['purchases']\n",
      "CONSENT TO CONTACT ['error']\n",
      "BY SIGNING BELOW, YOU AUT ['agreement']\n",
      "Applicant’s Signature Dat ['agreement']\n",
      "X (Seal) ['error']\n",
      "Other Signature Date ['agreement']\n",
      "X (Seal)\n",
      "By executing thi ['error']\n",
      "In order to help mitigate ['error']\n",
      "STATE LAW NOTICE(S)\n",
      "Notic ['agreement']\n",
      "Signature for Wisconsin R ['agreement']\n",
      "X (Seal)\n",
      "\n",
      " ['error']\n",
      "00910226-AXX00-C-1-071117 ['error']\n",
      "CONSENSUAL SECURITY INTER ['agreement']\n",
      "By signing or otherwise a ['credit_tips']\n",
      "Security Interest Acknowl ['interest']\n",
      "X (Seal) ['error']\n",
      "Security Interest Acknowl ['interest']\n",
      "X (Seal)\n",
      "SIGNATURES\n",
      "By si ['agreement']\n",
      "2. You understand that th ['credit_tips']\n",
      "Applicant’s Signature Dat ['agreement']\n",
      "X (Seal) ['error']\n",
      "Other Signature Date ['agreement']\n",
      "X (Seal)\n",
      "CREDIT UNION USE ['agreement']\n",
      "DATE APPROVED\n",
      "DECLINED ['agreement']\n",
      "NUMBER OF CARDS CREDIT LI ['credit_tips']\n",
      "CREDIT CARD NUMBER ['credit_tips']\n",
      "Signatures ['error']\n",
      "Date ['agreement']\n",
      "X (Seal) ['error']\n",
      "Date ['agreement']\n",
      "X (Seal) ['error']\n"
     ]
    }
   ],
   "source": [
    "for i in new_data['121 Financial Credit Union']:\n",
    "    a = preprocess(pd.Series(i),**process_val).apply(lambda x:', '.join(map(str, x)))\n",
    "    print(i[:25], text_clf.predict(a))"
   ]
  },
  {
   "cell_type": "code",
   "execution_count": null,
   "metadata": {},
   "outputs": [],
   "source": []
  }
 ],
 "metadata": {
  "kernelspec": {
   "display_name": "Python 3",
   "language": "python",
   "name": "python3"
  },
  "language_info": {
   "codemirror_mode": {
    "name": "ipython",
    "version": 3
   },
   "file_extension": ".py",
   "mimetype": "text/x-python",
   "name": "python",
   "nbconvert_exporter": "python",
   "pygments_lexer": "ipython3",
   "version": "3.7.5"
  }
 },
 "nbformat": 4,
 "nbformat_minor": 2
}
