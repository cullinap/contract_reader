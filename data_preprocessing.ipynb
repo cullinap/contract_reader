{
 "cells": [
  {
   "cell_type": "code",
   "execution_count": 1,
   "metadata": {},
   "outputs": [],
   "source": [
    "from utils.process_data import Process"
   ]
  },
  {
   "cell_type": "code",
   "execution_count": 2,
   "metadata": {},
   "outputs": [],
   "source": [
    "import os\n",
    "\n",
    "DATA_PATH = './data/cc_2018/'\n",
    "files = [f for f in os.listdir(DATA_PATH)][1:8]\n",
    "data_init = Process(files, DATA_PATH, 'test-output.pkl')\n",
    "OVERWRITE = True #make sure to override if file exists"
   ]
  },
  {
   "cell_type": "code",
   "execution_count": 4,
   "metadata": {},
   "outputs": [
    {
     "name": "stdout",
     "output_type": "stream",
     "text": [
      "cleaning pdf files...\n",
      "now preprocessing the data...\n",
      "dumping file to pkl...\n",
      "done\n"
     ]
    }
   ],
   "source": [
    "process_val = {'stopwords':'english','stemmer':'yes','ngrams':'trigrams'}\n",
    "\n",
    "temp_ = data_init.remove_lines(OVERWRITE, data_init, **process_val)"
   ]
  },
  {
   "cell_type": "code",
   "execution_count": 7,
   "metadata": {},
   "outputs": [
    {
     "data": {
      "text/plain": [
       "0     platinum_mastercard_credit, mastercard_credit_...\n",
       "1     disclosur_statement_effect, statement_effect_o...\n",
       "2     term_applic_save, applic_save_secur, save_secu...\n",
       "3     term_applic_card, applic_card_type, card_type_...\n",
       "4     period_financ_charg, financ_charg_account, cha...\n",
       "5     comput_balanc_upon, balanc_upon_period, upon_p...\n",
       "6     rate_rang_payment, rang_payment_percentag, rat...\n",
       "7                                                      \n",
       "8     late_charg_minimum, charg_minimum_month, minim...\n",
       "9     present_card_particip, card_particip_mastercar...\n",
       "10    machin_atm_type, atm_type_electron, type_elect...\n",
       "11    term_applic_agreement, applic_agreement_issuan...\n",
       "12    bill_right_notic, right_notic_contain, notic_c...\n",
       "13    usecu_org_copyright, org_copyright_use, copyri...\n",
       "Name: 0, dtype: object"
      ]
     },
     "execution_count": 7,
     "metadata": {},
     "output_type": "execute_result"
    }
   ],
   "source": [
    "temp_['USE Credit Union']"
   ]
  },
  {
   "cell_type": "code",
   "execution_count": 13,
   "metadata": {},
   "outputs": [
    {
     "name": "stdout",
     "output_type": "stream",
     "text": [
      "loading data...\n",
      "loaded...\n",
      "applying tfidf\n"
     ]
    },
    {
     "data": {
      "text/plain": [
       "<268x25 sparse matrix of type '<class 'numpy.float64'>'\n",
       "\twith 1325 stored elements in Compressed Sparse Row format>"
      ]
     },
     "execution_count": 13,
     "metadata": {},
     "output_type": "execute_result"
    }
   ],
   "source": [
    "params = {'vectorizor': 'tfidf',\n",
    "          'max_df': 0.30,\n",
    "          'min_df': 40}\n",
    "\n",
    "x = data_init.vectorize(**params)\n",
    "\n",
    "x"
   ]
  },
  {
   "cell_type": "markdown",
   "metadata": {},
   "source": [
    "TODO:</br>\n",
    "\n",
    "-DONE: make an option to preprocess</br>\n",
    "-DONE: make an option to change features in preprocess function like n-grams, stemmer</br>\n",
    "-rename the output of the dictionary in the to something diff </br>\n",
    "-make an option to load a pickle file with the pdf preprocessor before the NLP preprocessor </br>\n",
    "-DONE: make a BOW option </br>\n",
    "-DONE: make a TFIDF option </br>"
   ]
  }
 ],
 "metadata": {
  "kernelspec": {
   "display_name": "Python 3",
   "language": "python",
   "name": "python3"
  },
  "language_info": {
   "codemirror_mode": {
    "name": "ipython",
    "version": 3
   },
   "file_extension": ".py",
   "mimetype": "text/x-python",
   "name": "python",
   "nbconvert_exporter": "python",
   "pygments_lexer": "ipython3",
   "version": "3.7.5"
  }
 },
 "nbformat": 4,
 "nbformat_minor": 2
}
