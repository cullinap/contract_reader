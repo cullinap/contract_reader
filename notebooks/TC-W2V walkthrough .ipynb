{
 "cells": [
  {
   "cell_type": "markdown",
   "metadata": {},
   "source": [
    "##### Data\n",
    "\n",
    "This dataset consists of news headlines."
   ]
  },
  {
   "cell_type": "code",
   "execution_count": 25,
   "metadata": {},
   "outputs": [],
   "source": [
    "import os\n",
    "import pandas as pd\n",
    "\n",
    "#load the data and look at the structure\n",
    "data = pd.read_json('data/' + [x for x in os.listdir('data/') if x.endswith('.json')][0], lines=True)"
   ]
  },
  {
   "cell_type": "code",
   "execution_count": 33,
   "metadata": {},
   "outputs": [
    {
     "data": {
      "text/html": [
       "<div>\n",
       "<style scoped>\n",
       "    .dataframe tbody tr th:only-of-type {\n",
       "        vertical-align: middle;\n",
       "    }\n",
       "\n",
       "    .dataframe tbody tr th {\n",
       "        vertical-align: top;\n",
       "    }\n",
       "\n",
       "    .dataframe thead th {\n",
       "        text-align: right;\n",
       "    }\n",
       "</style>\n",
       "<table border=\"1\" class=\"dataframe\">\n",
       "  <thead>\n",
       "    <tr style=\"text-align: right;\">\n",
       "      <th></th>\n",
       "      <th>category</th>\n",
       "      <th>headline</th>\n",
       "    </tr>\n",
       "  </thead>\n",
       "  <tbody>\n",
       "    <tr>\n",
       "      <th>0</th>\n",
       "      <td>CRIME</td>\n",
       "      <td>There Were 2 Mass Shootings In Texas Last Week...</td>\n",
       "    </tr>\n",
       "    <tr>\n",
       "      <th>1</th>\n",
       "      <td>ENTERTAINMENT</td>\n",
       "      <td>Will Smith Joins Diplo And Nicky Jam For The 2...</td>\n",
       "    </tr>\n",
       "    <tr>\n",
       "      <th>2</th>\n",
       "      <td>ENTERTAINMENT</td>\n",
       "      <td>Hugh Grant Marries For The First Time At Age 57</td>\n",
       "    </tr>\n",
       "    <tr>\n",
       "      <th>3</th>\n",
       "      <td>ENTERTAINMENT</td>\n",
       "      <td>Jim Carrey Blasts 'Castrato' Adam Schiff And D...</td>\n",
       "    </tr>\n",
       "    <tr>\n",
       "      <th>4</th>\n",
       "      <td>ENTERTAINMENT</td>\n",
       "      <td>Julianna Margulies Uses Donald Trump Poop Bags...</td>\n",
       "    </tr>\n",
       "    <tr>\n",
       "      <th>5</th>\n",
       "      <td>ENTERTAINMENT</td>\n",
       "      <td>Morgan Freeman 'Devastated' That Sexual Harass...</td>\n",
       "    </tr>\n",
       "    <tr>\n",
       "      <th>6</th>\n",
       "      <td>ENTERTAINMENT</td>\n",
       "      <td>Donald Trump Is Lovin' New McDonald's Jingle I...</td>\n",
       "    </tr>\n",
       "    <tr>\n",
       "      <th>7</th>\n",
       "      <td>ENTERTAINMENT</td>\n",
       "      <td>What To Watch On Amazon Prime That’s New This ...</td>\n",
       "    </tr>\n",
       "    <tr>\n",
       "      <th>8</th>\n",
       "      <td>ENTERTAINMENT</td>\n",
       "      <td>Mike Myers Reveals He'd 'Like To' Do A Fourth ...</td>\n",
       "    </tr>\n",
       "    <tr>\n",
       "      <th>9</th>\n",
       "      <td>ENTERTAINMENT</td>\n",
       "      <td>What To Watch On Hulu That’s New This Week</td>\n",
       "    </tr>\n",
       "  </tbody>\n",
       "</table>\n",
       "</div>"
      ],
      "text/plain": [
       "        category                                           headline\n",
       "0          CRIME  There Were 2 Mass Shootings In Texas Last Week...\n",
       "1  ENTERTAINMENT  Will Smith Joins Diplo And Nicky Jam For The 2...\n",
       "2  ENTERTAINMENT    Hugh Grant Marries For The First Time At Age 57\n",
       "3  ENTERTAINMENT  Jim Carrey Blasts 'Castrato' Adam Schiff And D...\n",
       "4  ENTERTAINMENT  Julianna Margulies Uses Donald Trump Poop Bags...\n",
       "5  ENTERTAINMENT  Morgan Freeman 'Devastated' That Sexual Harass...\n",
       "6  ENTERTAINMENT  Donald Trump Is Lovin' New McDonald's Jingle I...\n",
       "7  ENTERTAINMENT  What To Watch On Amazon Prime That’s New This ...\n",
       "8  ENTERTAINMENT  Mike Myers Reveals He'd 'Like To' Do A Fourth ...\n",
       "9  ENTERTAINMENT         What To Watch On Hulu That’s New This Week"
      ]
     },
     "execution_count": 33,
     "metadata": {},
     "output_type": "execute_result"
    }
   ],
   "source": [
    "df = data[['category','headline']][:10]; df"
   ]
  },
  {
   "cell_type": "markdown",
   "metadata": {},
   "source": [
    "##### Simple preprocess\n",
    "\n",
    "Gensim simple preprocessor creates a list of lower case words and has the ability to ignore words greater than a specific character size as well as less than."
   ]
  },
  {
   "cell_type": "code",
   "execution_count": 58,
   "metadata": {},
   "outputs": [
    {
     "data": {
      "text/plain": [
       "0    [there, were, mass, shootings, in, texas, last...\n",
       "1    [will, smith, joins, diplo, and, nicky, jam, f...\n",
       "2    [hugh, grant, marries, for, the, first, time, ...\n",
       "3    [jim, carrey, blasts, castrato, adam, schiff, ...\n",
       "4    [julianna, margulies, uses, donald, trump, poo...\n",
       "5    [morgan, freeman, devastated, that, sexual, ha...\n",
       "6    [donald, trump, is, lovin, new, mcdonald, s, j...\n",
       "7    [what, to, watch, on, amazon, prime, that, s, ...\n",
       "8    [mike, myers, reveals, he, d, like, to, do, a,...\n",
       "9    [what, to, watch, on, hulu, that, s, new, this...\n",
       "Name: headline, dtype: object"
      ]
     },
     "execution_count": 58,
     "metadata": {},
     "output_type": "execute_result"
    }
   ],
   "source": [
    "import gensim\n",
    "\n",
    "tokens = df['headline'].apply(gensim.utils.simple_preprocess, min_len=0); tokens"
   ]
  },
  {
   "cell_type": "markdown",
   "metadata": {},
   "source": [
    "##### Remove stopwords\n",
    "\n",
    "Words like 'a', 'because', 'should', etc. are removed as they typically don't contribute to the statment's meaning."
   ]
  },
  {
   "cell_type": "code",
   "execution_count": 61,
   "metadata": {},
   "outputs": [
    {
     "data": {
      "text/plain": [
       "0             [mass, shootings, texas, last, week, tv]\n",
       "1    [smith, joins, diplo, nicky, jam, world, cup, ...\n",
       "2             [hugh, grant, marries, first, time, age]\n",
       "3    [jim, carrey, blasts, castrato, adam, schiff, ...\n",
       "4    [julianna, margulies, uses, donald, trump, poo...\n",
       "5    [morgan, freeman, devastated, sexual, harassme...\n",
       "6    [donald, trump, lovin, new, mcdonald, jingle, ...\n",
       "7                    [watch, amazon, prime, new, week]\n",
       "8    [mike, myers, reveals, like, fourth, austin, p...\n",
       "9                             [watch, hulu, new, week]\n",
       "Name: headline, dtype: object"
      ]
     },
     "execution_count": 61,
     "metadata": {},
     "output_type": "execute_result"
    }
   ],
   "source": [
    "from nltk.corpus import stopwords\n",
    "\n",
    "sw = set(stopwords.words('english')) #create the stopword set\n",
    "\n",
    "tokens_sw = tokens.apply(lambda s: [w for w in s if w not in sw]); tokens_sw"
   ]
  },
  {
   "cell_type": "code",
   "execution_count": null,
   "metadata": {},
   "outputs": [],
   "source": []
  },
  {
   "cell_type": "code",
   "execution_count": 34,
   "metadata": {},
   "outputs": [
    {
     "data": {
      "text/plain": [
       "0    There Were 2 Mass Shootings In Texas Last Week...\n",
       "1    Will Smith Joins Diplo And Nicky Jam For The 2...\n",
       "2      Hugh Grant Marries For The First Time At Age 57\n",
       "3    Jim Carrey Blasts 'Castrato' Adam Schiff And D...\n",
       "4    Julianna Margulies Uses Donald Trump Poop Bags...\n",
       "5    Morgan Freeman 'Devastated' That Sexual Harass...\n",
       "6    Donald Trump Is Lovin' New McDonald's Jingle I...\n",
       "7    What To Watch On Amazon Prime That’s New This ...\n",
       "8    Mike Myers Reveals He'd 'Like To' Do A Fourth ...\n",
       "9           What To Watch On Hulu That’s New This Week\n",
       "Name: headline, dtype: object"
      ]
     },
     "execution_count": 34,
     "metadata": {},
     "output_type": "execute_result"
    }
   ],
   "source": [
    "from sklearn.feature_extraction.text import TfidfVectorizer\n",
    "\n",
    "df['headline']"
   ]
  },
  {
   "cell_type": "code",
   "execution_count": null,
   "metadata": {},
   "outputs": [],
   "source": []
  }
 ],
 "metadata": {
  "kernelspec": {
   "display_name": "Python 3",
   "language": "python",
   "name": "python3"
  },
  "language_info": {
   "codemirror_mode": {
    "name": "ipython",
    "version": 3
   },
   "file_extension": ".py",
   "mimetype": "text/x-python",
   "name": "python",
   "nbconvert_exporter": "python",
   "pygments_lexer": "ipython3",
   "version": "3.7.6"
  }
 },
 "nbformat": 4,
 "nbformat_minor": 2
}
