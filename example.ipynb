{
 "cells": [
  {
   "cell_type": "markdown",
   "metadata": {},
   "source": [
    "##### Analyze a credit card agreement using a predictive model...\n",
    "\n",
    "1. Go to the website: https://www.consumerfinance.gov/credit-cards/agreements/ and obtain a credit agreement</br>\n",
    "2. Drop the file into the \"process_agreement\" folder</br>\n",
    "3. Import the Read class from reader.py</br>\n",
    "4. call the section method for the label that you want</br>\n",
    "\n",
    "Currently this model uses the following labels:</br>\n",
    "\n",
    "'payment'<br/>\n",
    "'rate'<br/>\n",
    "'agreement'<br/>\n",
    "'error'<br/>\n",
    "'fee'<br/>\n",
    "'purchases'<br/>\n",
    "'interest'<br/>\n",
    "'credit_tips'<br/>\n",
    "\n",
    "Not all labels will be present in each document as documents differ. The section method will print out all available labels that were tagged in the document you choose</br>"
   ]
  },
  {
   "cell_type": "code",
   "execution_count": 9,
   "metadata": {},
   "outputs": [
    {
     "name": "stdout",
     "output_type": "stream",
     "text": [
      "your document has the following categories\n",
      "agreement\n",
      "purchases\n",
      "payment\n",
      "error\n",
      "rate\n",
      "credit_tips\n",
      "fee\n"
     ]
    }
   ],
   "source": [
    "#create a Read class and \n",
    "from utils.reader import Read\n",
    "\n",
    "df = Read()"
   ]
  },
  {
   "cell_type": "code",
   "execution_count": 11,
   "metadata": {},
   "outputs": [
    {
     "name": "stdout",
     "output_type": "stream",
     "text": [
      "Your APR will be 20.24% when you open your account.\n",
      "This APR will vary with the market based on the Prime Rate.\n",
      "APR for Balance Transfers Your APR will be 20.24% when you open your account.\n",
      "This APR will vary with the market based on the Prime Rate.\n",
      "APR for Cash Advances 24.99%. This APR will vary with the market based on the Prime Rate.\n"
     ]
    }
   ],
   "source": [
    "df.section(label='rate')"
   ]
  },
  {
   "cell_type": "code",
   "execution_count": null,
   "metadata": {},
   "outputs": [],
   "source": []
  }
 ],
 "metadata": {
  "kernelspec": {
   "display_name": "Python 3",
   "language": "python",
   "name": "python3"
  },
  "language_info": {
   "codemirror_mode": {
    "name": "ipython",
    "version": 3
   },
   "file_extension": ".py",
   "mimetype": "text/x-python",
   "name": "python",
   "nbconvert_exporter": "python",
   "pygments_lexer": "ipython3",
   "version": "3.7.6"
  }
 },
 "nbformat": 4,
 "nbformat_minor": 2
}
