{
 "cells": [
  {
   "cell_type": "markdown",
   "metadata": {},
   "source": [
    "##### Analyze a credit card agreement using a predictive model...\n",
    "\n",
    "1. Go to the website: https://www.consumerfinance.gov/credit-cards/agreements/ and obtain a credit agreement</br>\n",
    "2. Drop the file into the \"process_agreement\" folder</br>\n",
    "3. Import the Read class from reader.py</br>\n",
    "4. call the section method for the label that you want</br>\n",
    "\n",
    "Currently this model uses the following labels:</br>\n",
    "\n",
    "'payment'<br/>\n",
    "'rate'<br/>\n",
    "'agreement'<br/>\n",
    "'error'<br/>\n",
    "'fee'<br/>\n",
    "'purchases'<br/>\n",
    "'interest'<br/>\n",
    "'credit_tips'<br/>\n",
    "\n",
    "Not all labels will be present in each document as documents differ. The section method will print out all available labels that were tagged in the document you choose</br>"
   ]
  },
  {
   "cell_type": "code",
   "execution_count": 4,
   "metadata": {},
   "outputs": [
    {
     "name": "stdout",
     "output_type": "stream",
     "text": [
      "your document has the following categories\n",
      "agreement\n",
      "purchases\n",
      "error\n"
     ]
    }
   ],
   "source": [
    "#create a Read class and \n",
    "from utils.reader import Read\n",
    "\n",
    "df = Read()"
   ]
  },
  {
   "cell_type": "code",
   "execution_count": 5,
   "metadata": {},
   "outputs": [
    {
     "name": "stdout",
     "output_type": "stream",
     "text": [
      "Your Billing Rights: Keep this Document for Future Use\n",
      "This notice tells You about Your rights and Our responsibilities under the Fair Credit Billing Act.\n",
      "What To Do If You Find A Mistake On Your Statement\n",
      "If You think there is an error on Your statement, write to Us at the address listed on Your statement.\n",
      "In Your letter, give Us the following information:\n",
      "- Account information: Your name and Account number.\n",
      "- Dollar amount: The dollar amount of the suspected error.\n",
      "- Description of problem: If You think there is an error on Your bill, describe what You believe is wrong and why You\n",
      "\n",
      "believe it is a mistake.\n",
      "You must contact Us:\n",
      "- Within 60 days after the error appeared on Your statement.\n",
      "- At least three business days before an automated payment is scheduled, if You want to stop payment on the amount\n",
      "You think is wrong.\n",
      "You must notify Us of any potential errors in writing or electronically. You may call Us, but if You do We are not required\n",
      "to investigate any potential errors and You may have to pay the amount in question.\n",
      "What Will Happen After We Receive Your Letter\n",
      "When We receive Your lette\n",
      "1. Within 30 days of receiving Your letter, We must tell You that We received Your letter. We will also tell You if We have\n",
      "already corrected the error.\n",
      "2. Within 90 days of receiving Your letter, We must either correct the error or explain to You why We believe the bill is\n",
      "correct.\n",
      "3. You must not yet have fully paid for the purchase.\n",
      "If all of the criteria above are met and You are still dissatisfied with the purchase, contact Us in writing or electronically at\n",
      "the address listed on Your statement.\n",
      "While We investigate, the same rules apply to the disputed amount as discussed\n"
     ]
    }
   ],
   "source": [
    "df.section(label='error')"
   ]
  },
  {
   "cell_type": "code",
   "execution_count": null,
   "metadata": {},
   "outputs": [],
   "source": []
  }
 ],
 "metadata": {
  "kernelspec": {
   "display_name": "Python 3",
   "language": "python",
   "name": "python3"
  },
  "language_info": {
   "codemirror_mode": {
    "name": "ipython",
    "version": 3
   },
   "file_extension": ".py",
   "mimetype": "text/x-python",
   "name": "python",
   "nbconvert_exporter": "python",
   "pygments_lexer": "ipython3",
   "version": "3.7.6"
  }
 },
 "nbformat": 4,
 "nbformat_minor": 2
}
