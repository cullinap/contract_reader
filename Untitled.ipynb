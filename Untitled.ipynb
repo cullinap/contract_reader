{
 "cells": [
  {
   "cell_type": "code",
   "execution_count": 1,
   "metadata": {},
   "outputs": [
    {
     "name": "stdout",
     "output_type": "stream",
     "text": [
      "bob: 1\n",
      "alan: 2\n",
      "danny: 3\n",
      "carl: 40\n"
     ]
    }
   ],
   "source": [
    "mydict = {\n",
    "    \"carl\": 40,\n",
    "    \"alan\": 2,\n",
    "    \"bob\": 1,\n",
    "    \"danny\": 3,\n",
    "}\n",
    "\n",
    "for key, value in sorted(mydict.items(), key=lambda item: item[1]):\n",
    "    print(\"%s: %s\" % (key, value))"
   ]
  },
  {
   "cell_type": "code",
   "execution_count": null,
   "metadata": {},
   "outputs": [],
   "source": []
  }
 ],
 "metadata": {
  "kernelspec": {
   "display_name": "Python 3",
   "language": "python",
   "name": "python3"
  },
  "language_info": {
   "codemirror_mode": {
    "name": "ipython",
    "version": 3
   },
   "file_extension": ".py",
   "mimetype": "text/x-python",
   "name": "python",
   "nbconvert_exporter": "python",
   "pygments_lexer": "ipython3",
   "version": "3.7.5"
  }
 },
 "nbformat": 4,
 "nbformat_minor": 2
}
