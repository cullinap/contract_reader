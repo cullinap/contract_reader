{
 "cells": [
  {
   "cell_type": "code",
   "execution_count": 154,
   "metadata": {},
   "outputs": [],
   "source": [
    "import numpy as np\n",
    "import pandas as pd\n",
    "import os\n",
    "from tika import parser\n",
    "import re"
   ]
  },
  {
   "cell_type": "code",
   "execution_count": 266,
   "metadata": {},
   "outputs": [],
   "source": [
    "DATA_PATH = './data/cc_2018/'\n",
    "files = [f for f in os.listdir(DATA_PATH)]"
   ]
  },
  {
   "cell_type": "code",
   "execution_count": 355,
   "metadata": {},
   "outputs": [],
   "source": [
    "def _strip(file,path):\n",
    "    regex = '\\n\\n(?=\\u2028|[A-Z-0-9])'\n",
    "    try:\n",
    "        return re.split(regex, \n",
    "                            [parser.from_file(path + file + '/' + doc) for doc in os.listdir(path + file)]\n",
    "                    [0]['content'].strip()\n",
    "                )\n",
    "    except:\n",
    "        return ['no data']"
   ]
  },
  {
   "cell_type": "code",
   "execution_count": 356,
   "metadata": {},
   "outputs": [],
   "source": [
    "documents = {f: strip_(f,DATA_PATH) for f in files}"
   ]
  },
  {
   "cell_type": "code",
   "execution_count": 357,
   "metadata": {},
   "outputs": [
    {
     "data": {
      "text/plain": [
       "651"
      ]
     },
     "execution_count": 357,
     "metadata": {},
     "output_type": "execute_result"
    }
   ],
   "source": [
    "len(documents.keys())"
   ]
  },
  {
   "cell_type": "code",
   "execution_count": 354,
   "metadata": {},
   "outputs": [
    {
     "data": {
      "text/plain": [
       "{'Greater Niles Community FCU': ['no data']}"
      ]
     },
     "execution_count": 354,
     "metadata": {},
     "output_type": "execute_result"
    }
   ],
   "source": [
    "t_ = {d: [t.replace('\\n', ' ').strip() for t in documents[d]] for d in documents.keys()}"
   ]
  },
  {
   "cell_type": "code",
   "execution_count": 274,
   "metadata": {},
   "outputs": [
    {
     "data": {
      "text/plain": [
       "dict_keys(['IBMSECU', 'USE Credit Union', 'Interra Credit Union', 'AMOCO Federal Credit Union', 'Financial Partners Credit Union', 'Vons Employees FCU', 'Vantage Credit Union', 'Tendto Credit Union'])"
      ]
     },
     "execution_count": 274,
     "metadata": {},
     "output_type": "execute_result"
    }
   ],
   "source": [
    "clean.keys()"
   ]
  },
  {
   "cell_type": "code",
   "execution_count": 293,
   "metadata": {},
   "outputs": [],
   "source": [
    "t_ = []\n",
    "for f in files[8:9]:\n",
    "    for doc in os.listdir(DATA_PATH + f):\n",
    "        t_.append(parser.from_file(DATA_PATH + f + '/' + doc))"
   ]
  },
  {
   "cell_type": "code",
   "execution_count": 294,
   "metadata": {},
   "outputs": [],
   "source": [
    "t_[0]['content']"
   ]
  },
  {
   "cell_type": "code",
   "execution_count": null,
   "metadata": {},
   "outputs": [],
   "source": []
  }
 ],
 "metadata": {
  "kernelspec": {
   "display_name": "Python 3",
   "language": "python",
   "name": "python3"
  },
  "language_info": {
   "codemirror_mode": {
    "name": "ipython",
    "version": 3
   },
   "file_extension": ".py",
   "mimetype": "text/x-python",
   "name": "python",
   "nbconvert_exporter": "python",
   "pygments_lexer": "ipython3",
   "version": "3.7.5"
  }
 },
 "nbformat": 4,
 "nbformat_minor": 2
}
